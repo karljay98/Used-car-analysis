{
 "cells": [
  {
   "cell_type": "code",
   "execution_count": 1,
   "metadata": {},
   "outputs": [],
   "source": [
    "import os\n",
    "import pandas as pd \n",
    "import numpy as np \n",
    "import matplotlib.pyplot as plt\n",
    "from sklearn.linear_model import LinearRegression"
   ]
  },
  {
   "cell_type": "markdown",
   "metadata": {},
   "source": [
    "##### Importing dataset and reading it\n"
   ]
  },
  {
   "cell_type": "code",
   "execution_count": 2,
   "metadata": {},
   "outputs": [
    {
     "data": {
      "text/html": [
       "<div>\n",
       "<style scoped>\n",
       "    .dataframe tbody tr th:only-of-type {\n",
       "        vertical-align: middle;\n",
       "    }\n",
       "\n",
       "    .dataframe tbody tr th {\n",
       "        vertical-align: top;\n",
       "    }\n",
       "\n",
       "    .dataframe thead th {\n",
       "        text-align: right;\n",
       "    }\n",
       "</style>\n",
       "<table border=\"1\" class=\"dataframe\">\n",
       "  <thead>\n",
       "    <tr style=\"text-align: right;\">\n",
       "      <th></th>\n",
       "      <th>Unnamed: 0</th>\n",
       "      <th>title</th>\n",
       "      <th>Price</th>\n",
       "      <th>Mileage(miles)</th>\n",
       "      <th>Registration_Year</th>\n",
       "      <th>Previous Owners</th>\n",
       "      <th>Fuel type</th>\n",
       "      <th>Body type</th>\n",
       "      <th>Engine</th>\n",
       "      <th>Gearbox</th>\n",
       "      <th>Doors</th>\n",
       "      <th>Seats</th>\n",
       "      <th>Emission Class</th>\n",
       "      <th>Service history</th>\n",
       "    </tr>\n",
       "  </thead>\n",
       "  <tbody>\n",
       "    <tr>\n",
       "      <th>0</th>\n",
       "      <td>0</td>\n",
       "      <td>SKODA Fabia</td>\n",
       "      <td>6900</td>\n",
       "      <td>70189</td>\n",
       "      <td>2016</td>\n",
       "      <td>3.0</td>\n",
       "      <td>Diesel</td>\n",
       "      <td>Hatchback</td>\n",
       "      <td>1.4L</td>\n",
       "      <td>Manual</td>\n",
       "      <td>5.0</td>\n",
       "      <td>5.0</td>\n",
       "      <td>Euro 6</td>\n",
       "      <td>NaN</td>\n",
       "    </tr>\n",
       "    <tr>\n",
       "      <th>1</th>\n",
       "      <td>1</td>\n",
       "      <td>Vauxhall Corsa</td>\n",
       "      <td>1495</td>\n",
       "      <td>88585</td>\n",
       "      <td>2008</td>\n",
       "      <td>4.0</td>\n",
       "      <td>Petrol</td>\n",
       "      <td>Hatchback</td>\n",
       "      <td>1.2L</td>\n",
       "      <td>Manual</td>\n",
       "      <td>3.0</td>\n",
       "      <td>5.0</td>\n",
       "      <td>Euro 4</td>\n",
       "      <td>Full</td>\n",
       "    </tr>\n",
       "    <tr>\n",
       "      <th>2</th>\n",
       "      <td>2</td>\n",
       "      <td>Hyundai i30</td>\n",
       "      <td>949</td>\n",
       "      <td>137000</td>\n",
       "      <td>2011</td>\n",
       "      <td>NaN</td>\n",
       "      <td>Petrol</td>\n",
       "      <td>Hatchback</td>\n",
       "      <td>1.4L</td>\n",
       "      <td>Manual</td>\n",
       "      <td>5.0</td>\n",
       "      <td>5.0</td>\n",
       "      <td>Euro 5</td>\n",
       "      <td>NaN</td>\n",
       "    </tr>\n",
       "    <tr>\n",
       "      <th>3</th>\n",
       "      <td>3</td>\n",
       "      <td>MINI Hatch</td>\n",
       "      <td>2395</td>\n",
       "      <td>96731</td>\n",
       "      <td>2010</td>\n",
       "      <td>5.0</td>\n",
       "      <td>Petrol</td>\n",
       "      <td>Hatchback</td>\n",
       "      <td>1.4L</td>\n",
       "      <td>Manual</td>\n",
       "      <td>3.0</td>\n",
       "      <td>4.0</td>\n",
       "      <td>Euro 4</td>\n",
       "      <td>Full</td>\n",
       "    </tr>\n",
       "    <tr>\n",
       "      <th>4</th>\n",
       "      <td>4</td>\n",
       "      <td>Vauxhall Corsa</td>\n",
       "      <td>1000</td>\n",
       "      <td>85000</td>\n",
       "      <td>2013</td>\n",
       "      <td>NaN</td>\n",
       "      <td>Diesel</td>\n",
       "      <td>Hatchback</td>\n",
       "      <td>1.3L</td>\n",
       "      <td>Manual</td>\n",
       "      <td>5.0</td>\n",
       "      <td>5.0</td>\n",
       "      <td>Euro 5</td>\n",
       "      <td>NaN</td>\n",
       "    </tr>\n",
       "    <tr>\n",
       "      <th>5</th>\n",
       "      <td>5</td>\n",
       "      <td>Hyundai Coupe</td>\n",
       "      <td>800</td>\n",
       "      <td>124196</td>\n",
       "      <td>2007</td>\n",
       "      <td>3.0</td>\n",
       "      <td>Petrol</td>\n",
       "      <td>Coupe</td>\n",
       "      <td>2.0L</td>\n",
       "      <td>Manual</td>\n",
       "      <td>3.0</td>\n",
       "      <td>4.0</td>\n",
       "      <td>Euro 4</td>\n",
       "      <td>NaN</td>\n",
       "    </tr>\n",
       "    <tr>\n",
       "      <th>6</th>\n",
       "      <td>6</td>\n",
       "      <td>Ford Focus</td>\n",
       "      <td>798</td>\n",
       "      <td>140599</td>\n",
       "      <td>2008</td>\n",
       "      <td>NaN</td>\n",
       "      <td>Petrol</td>\n",
       "      <td>Hatchback</td>\n",
       "      <td>1.6L</td>\n",
       "      <td>Manual</td>\n",
       "      <td>5.0</td>\n",
       "      <td>5.0</td>\n",
       "      <td>Euro 4</td>\n",
       "      <td>NaN</td>\n",
       "    </tr>\n",
       "    <tr>\n",
       "      <th>7</th>\n",
       "      <td>7</td>\n",
       "      <td>Vauxhall Corsa</td>\n",
       "      <td>1995</td>\n",
       "      <td>90000</td>\n",
       "      <td>2009</td>\n",
       "      <td>NaN</td>\n",
       "      <td>Petrol</td>\n",
       "      <td>Hatchback</td>\n",
       "      <td>1.2L</td>\n",
       "      <td>Manual</td>\n",
       "      <td>3.0</td>\n",
       "      <td>5.0</td>\n",
       "      <td>Euro 4</td>\n",
       "      <td>NaN</td>\n",
       "    </tr>\n",
       "    <tr>\n",
       "      <th>8</th>\n",
       "      <td>8</td>\n",
       "      <td>Volvo 740</td>\n",
       "      <td>750</td>\n",
       "      <td>225318</td>\n",
       "      <td>1989</td>\n",
       "      <td>NaN</td>\n",
       "      <td>Petrol</td>\n",
       "      <td>Estate</td>\n",
       "      <td>2.3L</td>\n",
       "      <td>Automatic</td>\n",
       "      <td>5.0</td>\n",
       "      <td>NaN</td>\n",
       "      <td>NaN</td>\n",
       "      <td>NaN</td>\n",
       "    </tr>\n",
       "    <tr>\n",
       "      <th>9</th>\n",
       "      <td>9</td>\n",
       "      <td>Peugeot 207</td>\n",
       "      <td>1299</td>\n",
       "      <td>87000</td>\n",
       "      <td>2008</td>\n",
       "      <td>5.0</td>\n",
       "      <td>Diesel</td>\n",
       "      <td>Hatchback</td>\n",
       "      <td>1.6L</td>\n",
       "      <td>Manual</td>\n",
       "      <td>5.0</td>\n",
       "      <td>5.0</td>\n",
       "      <td>Euro 4</td>\n",
       "      <td>NaN</td>\n",
       "    </tr>\n",
       "  </tbody>\n",
       "</table>\n",
       "</div>"
      ],
      "text/plain": [
       "   Unnamed: 0           title  Price  Mileage(miles)  Registration_Year  \\\n",
       "0           0     SKODA Fabia   6900           70189               2016   \n",
       "1           1  Vauxhall Corsa   1495           88585               2008   \n",
       "2           2     Hyundai i30    949          137000               2011   \n",
       "3           3      MINI Hatch   2395           96731               2010   \n",
       "4           4  Vauxhall Corsa   1000           85000               2013   \n",
       "5           5   Hyundai Coupe    800          124196               2007   \n",
       "6           6      Ford Focus    798          140599               2008   \n",
       "7           7  Vauxhall Corsa   1995           90000               2009   \n",
       "8           8       Volvo 740    750          225318               1989   \n",
       "9           9     Peugeot 207   1299           87000               2008   \n",
       "\n",
       "   Previous Owners Fuel type  Body type Engine    Gearbox  Doors  Seats  \\\n",
       "0              3.0    Diesel  Hatchback   1.4L     Manual    5.0    5.0   \n",
       "1              4.0    Petrol  Hatchback   1.2L     Manual    3.0    5.0   \n",
       "2              NaN    Petrol  Hatchback   1.4L     Manual    5.0    5.0   \n",
       "3              5.0    Petrol  Hatchback   1.4L     Manual    3.0    4.0   \n",
       "4              NaN    Diesel  Hatchback   1.3L     Manual    5.0    5.0   \n",
       "5              3.0    Petrol      Coupe   2.0L     Manual    3.0    4.0   \n",
       "6              NaN    Petrol  Hatchback   1.6L     Manual    5.0    5.0   \n",
       "7              NaN    Petrol  Hatchback   1.2L     Manual    3.0    5.0   \n",
       "8              NaN    Petrol     Estate   2.3L  Automatic    5.0    NaN   \n",
       "9              5.0    Diesel  Hatchback   1.6L     Manual    5.0    5.0   \n",
       "\n",
       "  Emission Class Service history  \n",
       "0         Euro 6             NaN  \n",
       "1         Euro 4            Full  \n",
       "2         Euro 5             NaN  \n",
       "3         Euro 4            Full  \n",
       "4         Euro 5             NaN  \n",
       "5         Euro 4             NaN  \n",
       "6         Euro 4             NaN  \n",
       "7         Euro 4             NaN  \n",
       "8            NaN             NaN  \n",
       "9         Euro 4             NaN  "
      ]
     },
     "execution_count": 2,
     "metadata": {},
     "output_type": "execute_result"
    }
   ],
   "source": [
    "df = pd.read_csv(\"used_cars_UK.csv\")\n",
    "\n",
    "df.head(10)"
   ]
  },
  {
   "cell_type": "markdown",
   "metadata": {},
   "source": [
    "#### Descriptive analytics\n"
   ]
  },
  {
   "cell_type": "code",
   "execution_count": 3,
   "metadata": {},
   "outputs": [
    {
     "data": {
      "text/plain": [
       "<bound method DataFrame.info of       Unnamed: 0           title  Price  Mileage(miles)  Registration_Year  \\\n",
       "0              0     SKODA Fabia   6900           70189               2016   \n",
       "1              1  Vauxhall Corsa   1495           88585               2008   \n",
       "2              2     Hyundai i30    949          137000               2011   \n",
       "3              3      MINI Hatch   2395           96731               2010   \n",
       "4              4  Vauxhall Corsa   1000           85000               2013   \n",
       "...          ...             ...    ...             ...                ...   \n",
       "3680        4723  Renault Megane   1395           76202               2006   \n",
       "3681        4724         Audi A4   6990          119000               2012   \n",
       "3682        4725    BMW 3 Series   3995          139000               2013   \n",
       "3683        4726    Honda Accord   1390          179190               2007   \n",
       "3684        4727  Vauxhall Corsa   2000           82160               2013   \n",
       "\n",
       "      Previous Owners Fuel type  Body type Engine Gearbox  Doors  Seats  \\\n",
       "0                 3.0    Diesel  Hatchback   1.4L  Manual    5.0    5.0   \n",
       "1                 4.0    Petrol  Hatchback   1.2L  Manual    3.0    5.0   \n",
       "2                 NaN    Petrol  Hatchback   1.4L  Manual    5.0    5.0   \n",
       "3                 5.0    Petrol  Hatchback   1.4L  Manual    3.0    4.0   \n",
       "4                 NaN    Diesel  Hatchback   1.3L  Manual    5.0    5.0   \n",
       "...               ...       ...        ...    ...     ...    ...    ...   \n",
       "3680              4.0    Petrol  Hatchback   1.6L  Manual    5.0    5.0   \n",
       "3681              NaN    Petrol     Saloon   2.0L  Manual    4.0    5.0   \n",
       "3682              NaN    Diesel     Saloon   2.0L  Manual    4.0    5.0   \n",
       "3683              NaN    Diesel     Estate   2.2L  Manual    5.0    5.0   \n",
       "3684              7.0    Petrol  Hatchback   1.2L  Manual    5.0    5.0   \n",
       "\n",
       "     Emission Class Service history  \n",
       "0            Euro 6             NaN  \n",
       "1            Euro 4            Full  \n",
       "2            Euro 5             NaN  \n",
       "3            Euro 4            Full  \n",
       "4            Euro 5             NaN  \n",
       "...             ...             ...  \n",
       "3680         Euro 4             NaN  \n",
       "3681         Euro 5             NaN  \n",
       "3682         Euro 5             NaN  \n",
       "3683         Euro 4            Full  \n",
       "3684         Euro 5             NaN  \n",
       "\n",
       "[3685 rows x 14 columns]>"
      ]
     },
     "execution_count": 3,
     "metadata": {},
     "output_type": "execute_result"
    }
   ],
   "source": [
    "df.info"
   ]
  },
  {
   "cell_type": "code",
   "execution_count": 4,
   "metadata": {},
   "outputs": [
    {
     "data": {
      "text/plain": [
       "(3685, 14)"
      ]
     },
     "execution_count": 4,
     "metadata": {},
     "output_type": "execute_result"
    }
   ],
   "source": [
    "df.shape"
   ]
  },
  {
   "cell_type": "code",
   "execution_count": 5,
   "metadata": {},
   "outputs": [
    {
     "data": {
      "text/html": [
       "<div>\n",
       "<style scoped>\n",
       "    .dataframe tbody tr th:only-of-type {\n",
       "        vertical-align: middle;\n",
       "    }\n",
       "\n",
       "    .dataframe tbody tr th {\n",
       "        vertical-align: top;\n",
       "    }\n",
       "\n",
       "    .dataframe thead th {\n",
       "        text-align: right;\n",
       "    }\n",
       "</style>\n",
       "<table border=\"1\" class=\"dataframe\">\n",
       "  <thead>\n",
       "    <tr style=\"text-align: right;\">\n",
       "      <th></th>\n",
       "      <th>Unnamed: 0</th>\n",
       "      <th>Price</th>\n",
       "      <th>Mileage(miles)</th>\n",
       "      <th>Registration_Year</th>\n",
       "      <th>Previous Owners</th>\n",
       "      <th>Doors</th>\n",
       "      <th>Seats</th>\n",
       "    </tr>\n",
       "  </thead>\n",
       "  <tbody>\n",
       "    <tr>\n",
       "      <th>count</th>\n",
       "      <td>3685.000000</td>\n",
       "      <td>3685.000000</td>\n",
       "      <td>3.685000e+03</td>\n",
       "      <td>3685.000000</td>\n",
       "      <td>2276.000000</td>\n",
       "      <td>3660.000000</td>\n",
       "      <td>3650.000000</td>\n",
       "    </tr>\n",
       "    <tr>\n",
       "      <th>mean</th>\n",
       "      <td>2314.770963</td>\n",
       "      <td>5787.145726</td>\n",
       "      <td>8.132816e+04</td>\n",
       "      <td>2011.835007</td>\n",
       "      <td>2.807557</td>\n",
       "      <td>4.321038</td>\n",
       "      <td>4.900274</td>\n",
       "    </tr>\n",
       "    <tr>\n",
       "      <th>std</th>\n",
       "      <td>1415.821308</td>\n",
       "      <td>4480.810572</td>\n",
       "      <td>3.942083e+04</td>\n",
       "      <td>5.092566</td>\n",
       "      <td>1.546028</td>\n",
       "      <td>0.986902</td>\n",
       "      <td>0.577200</td>\n",
       "    </tr>\n",
       "    <tr>\n",
       "      <th>min</th>\n",
       "      <td>0.000000</td>\n",
       "      <td>400.000000</td>\n",
       "      <td>1.000000e+00</td>\n",
       "      <td>1953.000000</td>\n",
       "      <td>1.000000</td>\n",
       "      <td>2.000000</td>\n",
       "      <td>2.000000</td>\n",
       "    </tr>\n",
       "    <tr>\n",
       "      <th>25%</th>\n",
       "      <td>1059.000000</td>\n",
       "      <td>2490.000000</td>\n",
       "      <td>5.698400e+04</td>\n",
       "      <td>2008.000000</td>\n",
       "      <td>2.000000</td>\n",
       "      <td>3.000000</td>\n",
       "      <td>5.000000</td>\n",
       "    </tr>\n",
       "    <tr>\n",
       "      <th>50%</th>\n",
       "      <td>2279.000000</td>\n",
       "      <td>4000.000000</td>\n",
       "      <td>8.000000e+04</td>\n",
       "      <td>2012.000000</td>\n",
       "      <td>3.000000</td>\n",
       "      <td>5.000000</td>\n",
       "      <td>5.000000</td>\n",
       "    </tr>\n",
       "    <tr>\n",
       "      <th>75%</th>\n",
       "      <td>3593.000000</td>\n",
       "      <td>7995.000000</td>\n",
       "      <td>1.030000e+05</td>\n",
       "      <td>2015.000000</td>\n",
       "      <td>4.000000</td>\n",
       "      <td>5.000000</td>\n",
       "      <td>5.000000</td>\n",
       "    </tr>\n",
       "    <tr>\n",
       "      <th>max</th>\n",
       "      <td>4727.000000</td>\n",
       "      <td>33900.000000</td>\n",
       "      <td>1.110100e+06</td>\n",
       "      <td>2023.000000</td>\n",
       "      <td>9.000000</td>\n",
       "      <td>5.000000</td>\n",
       "      <td>7.000000</td>\n",
       "    </tr>\n",
       "  </tbody>\n",
       "</table>\n",
       "</div>"
      ],
      "text/plain": [
       "        Unnamed: 0         Price  Mileage(miles)  Registration_Year  \\\n",
       "count  3685.000000   3685.000000    3.685000e+03        3685.000000   \n",
       "mean   2314.770963   5787.145726    8.132816e+04        2011.835007   \n",
       "std    1415.821308   4480.810572    3.942083e+04           5.092566   \n",
       "min       0.000000    400.000000    1.000000e+00        1953.000000   \n",
       "25%    1059.000000   2490.000000    5.698400e+04        2008.000000   \n",
       "50%    2279.000000   4000.000000    8.000000e+04        2012.000000   \n",
       "75%    3593.000000   7995.000000    1.030000e+05        2015.000000   \n",
       "max    4727.000000  33900.000000    1.110100e+06        2023.000000   \n",
       "\n",
       "       Previous Owners        Doors        Seats  \n",
       "count      2276.000000  3660.000000  3650.000000  \n",
       "mean          2.807557     4.321038     4.900274  \n",
       "std           1.546028     0.986902     0.577200  \n",
       "min           1.000000     2.000000     2.000000  \n",
       "25%           2.000000     3.000000     5.000000  \n",
       "50%           3.000000     5.000000     5.000000  \n",
       "75%           4.000000     5.000000     5.000000  \n",
       "max           9.000000     5.000000     7.000000  "
      ]
     },
     "execution_count": 5,
     "metadata": {},
     "output_type": "execute_result"
    }
   ],
   "source": [
    "df.describe()"
   ]
  },
  {
   "cell_type": "code",
   "execution_count": 6,
   "metadata": {},
   "outputs": [
    {
     "data": {
      "text/plain": [
       "array([[0, 'SKODA Fabia', 6900, ..., 5.0, 'Euro 6', nan],\n",
       "       [1, 'Vauxhall Corsa', 1495, ..., 5.0, 'Euro 4', 'Full'],\n",
       "       [2, 'Hyundai i30', 949, ..., 5.0, 'Euro 5', nan],\n",
       "       ...,\n",
       "       [4725, 'BMW 3 Series', 3995, ..., 5.0, 'Euro 5', nan],\n",
       "       [4726, 'Honda Accord', 1390, ..., 5.0, 'Euro 4', 'Full'],\n",
       "       [4727, 'Vauxhall Corsa', 2000, ..., 5.0, 'Euro 5', nan]],\n",
       "      dtype=object)"
      ]
     },
     "execution_count": 6,
     "metadata": {},
     "output_type": "execute_result"
    }
   ],
   "source": [
    "df.values"
   ]
  },
  {
   "cell_type": "code",
   "execution_count": 7,
   "metadata": {},
   "outputs": [
    {
     "data": {
      "text/plain": [
       "Index(['Unnamed: 0', 'title', 'Price', 'Mileage(miles)', 'Registration_Year',\n",
       "       'Previous Owners', 'Fuel type', 'Body type', 'Engine', 'Gearbox',\n",
       "       'Doors', 'Seats', 'Emission Class', 'Service history'],\n",
       "      dtype='object')"
      ]
     },
     "execution_count": 7,
     "metadata": {},
     "output_type": "execute_result"
    }
   ],
   "source": [
    "df.columns"
   ]
  },
  {
   "cell_type": "code",
   "execution_count": 8,
   "metadata": {},
   "outputs": [
    {
     "data": {
      "text/plain": [
       "Unnamed: 0              0\n",
       "title                   0\n",
       "Price                   0\n",
       "Mileage(miles)          0\n",
       "Registration_Year       0\n",
       "Previous Owners      1409\n",
       "Fuel type               0\n",
       "Body type               0\n",
       "Engine                 45\n",
       "Gearbox                 0\n",
       "Doors                  25\n",
       "Seats                  35\n",
       "Emission Class         87\n",
       "Service history      3145\n",
       "dtype: int64"
      ]
     },
     "execution_count": 8,
     "metadata": {},
     "output_type": "execute_result"
    }
   ],
   "source": [
    "df.isnull().sum()"
   ]
  },
  {
   "cell_type": "code",
   "execution_count": 9,
   "metadata": {},
   "outputs": [
    {
     "name": "stdout",
     "output_type": "stream",
     "text": [
      " Previous Owners's null rate: 38.236092265943014%\n",
      " Engine's null rate: 1.2211668928086838%\n",
      " Doors's null rate: 0.6784260515603799%\n",
      " Seats's null rate: 0.9497964721845319%\n",
      " Emission Class's null rate: 2.360922659430122%\n",
      " Service history's null rate: 85.3459972862958%\n"
     ]
    }
   ],
   "source": [
    "for i in df.columns:\n",
    "    null_rate = df[i].isna().sum()/len(df) * 100\n",
    "    if null_rate > 0:\n",
    "        print(f\" {i}'s null rate: {null_rate}%\")"
   ]
  },
  {
   "cell_type": "code",
   "execution_count": 10,
   "metadata": {},
   "outputs": [
    {
     "data": {
      "text/plain": [
       "0       1.4L\n",
       "1       1.2L\n",
       "2       1.4L\n",
       "3       1.4L\n",
       "4       1.3L\n",
       "        ... \n",
       "3680    1.6L\n",
       "3681    2.0L\n",
       "3682    2.0L\n",
       "3683    2.2L\n",
       "3684    1.2L\n",
       "Name: Engine, Length: 3685, dtype: object"
      ]
     },
     "execution_count": 10,
     "metadata": {},
     "output_type": "execute_result"
    }
   ],
   "source": [
    "df[\"Engine\"]"
   ]
  },
  {
   "cell_type": "markdown",
   "metadata": {},
   "source": [
    "filling in or removing missing values\n"
   ]
  },
  {
   "cell_type": "code",
   "execution_count": 11,
   "metadata": {},
   "outputs": [
    {
     "data": {
      "text/plain": [
       "Unnamed: 0             int64\n",
       "title                 object\n",
       "Price                  int64\n",
       "Mileage(miles)         int64\n",
       "Registration_Year      int64\n",
       "Previous Owners      float64\n",
       "Fuel type             object\n",
       "Body type             object\n",
       "Engine                object\n",
       "Gearbox               object\n",
       "Doors                float64\n",
       "Seats                float64\n",
       "Emission Class        object\n",
       "Service history       object\n",
       "dtype: object"
      ]
     },
     "execution_count": 11,
     "metadata": {},
     "output_type": "execute_result"
    }
   ],
   "source": [
    "df.dtypes"
   ]
  },
  {
   "cell_type": "code",
   "execution_count": 12,
   "metadata": {},
   "outputs": [],
   "source": [
    "# column renaming and type chaning\n",
    "\n",
    "df.rename(columns={'Mileage(miles)':'Mileage'}, inplace = True)\n",
    "\n",
    "df['Previous Owners'] = df['Previous Owners'].astype('Int64')\n",
    "df['Doors'] = df['Doors'].astype('Int64')\n",
    "df['Seats'] = df['Seats'].astype('Int64')\n",
    "\n",
    "\n"
   ]
  },
  {
   "cell_type": "code",
   "execution_count": 13,
   "metadata": {},
   "outputs": [
    {
     "data": {
      "text/plain": [
       "Unnamed: 0            int64\n",
       "title                object\n",
       "Price                 int64\n",
       "Mileage               int64\n",
       "Registration_Year     int64\n",
       "Previous Owners       Int64\n",
       "Fuel type            object\n",
       "Body type            object\n",
       "Engine               object\n",
       "Gearbox              object\n",
       "Doors                 Int64\n",
       "Seats                 Int64\n",
       "Emission Class       object\n",
       "Service history      object\n",
       "dtype: object"
      ]
     },
     "execution_count": 13,
     "metadata": {},
     "output_type": "execute_result"
    }
   ],
   "source": [
    "df.dtypes"
   ]
  },
  {
   "cell_type": "code",
   "execution_count": 14,
   "metadata": {},
   "outputs": [],
   "source": [
    "df.dropna(subset=[\"Engine\"], inplace=True)\n",
    "df[\"Doors\"].fillna(df[\"Doors\"].median(), inplace=True)\n",
    "df[\"Seats\"].fillna(df[\"Seats\"].median(), inplace=True)\n",
    "df.drop('Service history', axis=1, inplace=True)\n",
    "df['Previous Owners'].fillna(df['Previous Owners'].median(), inplace=True)\n"
   ]
  },
  {
   "cell_type": "code",
   "execution_count": 15,
   "metadata": {},
   "outputs": [
    {
     "data": {
      "text/html": [
       "<div>\n",
       "<style scoped>\n",
       "    .dataframe tbody tr th:only-of-type {\n",
       "        vertical-align: middle;\n",
       "    }\n",
       "\n",
       "    .dataframe tbody tr th {\n",
       "        vertical-align: top;\n",
       "    }\n",
       "\n",
       "    .dataframe thead th {\n",
       "        text-align: right;\n",
       "    }\n",
       "</style>\n",
       "<table border=\"1\" class=\"dataframe\">\n",
       "  <thead>\n",
       "    <tr style=\"text-align: right;\">\n",
       "      <th></th>\n",
       "      <th>Unnamed: 0</th>\n",
       "      <th>title</th>\n",
       "      <th>Price</th>\n",
       "      <th>Mileage</th>\n",
       "      <th>Registration_Year</th>\n",
       "      <th>Previous Owners</th>\n",
       "      <th>Fuel type</th>\n",
       "      <th>Body type</th>\n",
       "      <th>Engine</th>\n",
       "      <th>Gearbox</th>\n",
       "      <th>Doors</th>\n",
       "      <th>Seats</th>\n",
       "      <th>Emission Class</th>\n",
       "    </tr>\n",
       "  </thead>\n",
       "  <tbody>\n",
       "    <tr>\n",
       "      <th>0</th>\n",
       "      <td>0</td>\n",
       "      <td>SKODA Fabia</td>\n",
       "      <td>6900</td>\n",
       "      <td>70189</td>\n",
       "      <td>2016</td>\n",
       "      <td>3</td>\n",
       "      <td>Diesel</td>\n",
       "      <td>Hatchback</td>\n",
       "      <td>1.4L</td>\n",
       "      <td>Manual</td>\n",
       "      <td>5</td>\n",
       "      <td>5</td>\n",
       "      <td>Euro 6</td>\n",
       "    </tr>\n",
       "    <tr>\n",
       "      <th>1</th>\n",
       "      <td>1</td>\n",
       "      <td>Vauxhall Corsa</td>\n",
       "      <td>1495</td>\n",
       "      <td>88585</td>\n",
       "      <td>2008</td>\n",
       "      <td>4</td>\n",
       "      <td>Petrol</td>\n",
       "      <td>Hatchback</td>\n",
       "      <td>1.2L</td>\n",
       "      <td>Manual</td>\n",
       "      <td>3</td>\n",
       "      <td>5</td>\n",
       "      <td>Euro 4</td>\n",
       "    </tr>\n",
       "    <tr>\n",
       "      <th>2</th>\n",
       "      <td>2</td>\n",
       "      <td>Hyundai i30</td>\n",
       "      <td>949</td>\n",
       "      <td>137000</td>\n",
       "      <td>2011</td>\n",
       "      <td>3</td>\n",
       "      <td>Petrol</td>\n",
       "      <td>Hatchback</td>\n",
       "      <td>1.4L</td>\n",
       "      <td>Manual</td>\n",
       "      <td>5</td>\n",
       "      <td>5</td>\n",
       "      <td>Euro 5</td>\n",
       "    </tr>\n",
       "    <tr>\n",
       "      <th>3</th>\n",
       "      <td>3</td>\n",
       "      <td>MINI Hatch</td>\n",
       "      <td>2395</td>\n",
       "      <td>96731</td>\n",
       "      <td>2010</td>\n",
       "      <td>5</td>\n",
       "      <td>Petrol</td>\n",
       "      <td>Hatchback</td>\n",
       "      <td>1.4L</td>\n",
       "      <td>Manual</td>\n",
       "      <td>3</td>\n",
       "      <td>4</td>\n",
       "      <td>Euro 4</td>\n",
       "    </tr>\n",
       "    <tr>\n",
       "      <th>4</th>\n",
       "      <td>4</td>\n",
       "      <td>Vauxhall Corsa</td>\n",
       "      <td>1000</td>\n",
       "      <td>85000</td>\n",
       "      <td>2013</td>\n",
       "      <td>3</td>\n",
       "      <td>Diesel</td>\n",
       "      <td>Hatchback</td>\n",
       "      <td>1.3L</td>\n",
       "      <td>Manual</td>\n",
       "      <td>5</td>\n",
       "      <td>5</td>\n",
       "      <td>Euro 5</td>\n",
       "    </tr>\n",
       "  </tbody>\n",
       "</table>\n",
       "</div>"
      ],
      "text/plain": [
       "   Unnamed: 0           title  Price  Mileage  Registration_Year  \\\n",
       "0           0     SKODA Fabia   6900    70189               2016   \n",
       "1           1  Vauxhall Corsa   1495    88585               2008   \n",
       "2           2     Hyundai i30    949   137000               2011   \n",
       "3           3      MINI Hatch   2395    96731               2010   \n",
       "4           4  Vauxhall Corsa   1000    85000               2013   \n",
       "\n",
       "   Previous Owners Fuel type  Body type Engine Gearbox  Doors  Seats  \\\n",
       "0                3    Diesel  Hatchback   1.4L  Manual      5      5   \n",
       "1                4    Petrol  Hatchback   1.2L  Manual      3      5   \n",
       "2                3    Petrol  Hatchback   1.4L  Manual      5      5   \n",
       "3                5    Petrol  Hatchback   1.4L  Manual      3      4   \n",
       "4                3    Diesel  Hatchback   1.3L  Manual      5      5   \n",
       "\n",
       "  Emission Class  \n",
       "0         Euro 6  \n",
       "1         Euro 4  \n",
       "2         Euro 5  \n",
       "3         Euro 4  \n",
       "4         Euro 5  "
      ]
     },
     "execution_count": 15,
     "metadata": {},
     "output_type": "execute_result"
    }
   ],
   "source": [
    "df.head()"
   ]
  },
  {
   "cell_type": "code",
   "execution_count": 16,
   "metadata": {},
   "outputs": [],
   "source": [
    "df.drop('Emission Class', axis=1, inplace=True)"
   ]
  },
  {
   "cell_type": "code",
   "execution_count": 17,
   "metadata": {},
   "outputs": [
    {
     "data": {
      "text/html": [
       "<div>\n",
       "<style scoped>\n",
       "    .dataframe tbody tr th:only-of-type {\n",
       "        vertical-align: middle;\n",
       "    }\n",
       "\n",
       "    .dataframe tbody tr th {\n",
       "        vertical-align: top;\n",
       "    }\n",
       "\n",
       "    .dataframe thead th {\n",
       "        text-align: right;\n",
       "    }\n",
       "</style>\n",
       "<table border=\"1\" class=\"dataframe\">\n",
       "  <thead>\n",
       "    <tr style=\"text-align: right;\">\n",
       "      <th></th>\n",
       "      <th>Unnamed: 0</th>\n",
       "      <th>title</th>\n",
       "      <th>Price</th>\n",
       "      <th>Mileage</th>\n",
       "      <th>Registration_Year</th>\n",
       "      <th>Previous Owners</th>\n",
       "      <th>Fuel type</th>\n",
       "      <th>Body type</th>\n",
       "      <th>Engine</th>\n",
       "      <th>Gearbox</th>\n",
       "      <th>Doors</th>\n",
       "      <th>Seats</th>\n",
       "    </tr>\n",
       "  </thead>\n",
       "  <tbody>\n",
       "    <tr>\n",
       "      <th>0</th>\n",
       "      <td>0</td>\n",
       "      <td>SKODA Fabia</td>\n",
       "      <td>6900</td>\n",
       "      <td>70189</td>\n",
       "      <td>2016</td>\n",
       "      <td>3</td>\n",
       "      <td>Diesel</td>\n",
       "      <td>Hatchback</td>\n",
       "      <td>1.4L</td>\n",
       "      <td>Manual</td>\n",
       "      <td>5</td>\n",
       "      <td>5</td>\n",
       "    </tr>\n",
       "    <tr>\n",
       "      <th>1</th>\n",
       "      <td>1</td>\n",
       "      <td>Vauxhall Corsa</td>\n",
       "      <td>1495</td>\n",
       "      <td>88585</td>\n",
       "      <td>2008</td>\n",
       "      <td>4</td>\n",
       "      <td>Petrol</td>\n",
       "      <td>Hatchback</td>\n",
       "      <td>1.2L</td>\n",
       "      <td>Manual</td>\n",
       "      <td>3</td>\n",
       "      <td>5</td>\n",
       "    </tr>\n",
       "    <tr>\n",
       "      <th>2</th>\n",
       "      <td>2</td>\n",
       "      <td>Hyundai i30</td>\n",
       "      <td>949</td>\n",
       "      <td>137000</td>\n",
       "      <td>2011</td>\n",
       "      <td>3</td>\n",
       "      <td>Petrol</td>\n",
       "      <td>Hatchback</td>\n",
       "      <td>1.4L</td>\n",
       "      <td>Manual</td>\n",
       "      <td>5</td>\n",
       "      <td>5</td>\n",
       "    </tr>\n",
       "    <tr>\n",
       "      <th>3</th>\n",
       "      <td>3</td>\n",
       "      <td>MINI Hatch</td>\n",
       "      <td>2395</td>\n",
       "      <td>96731</td>\n",
       "      <td>2010</td>\n",
       "      <td>5</td>\n",
       "      <td>Petrol</td>\n",
       "      <td>Hatchback</td>\n",
       "      <td>1.4L</td>\n",
       "      <td>Manual</td>\n",
       "      <td>3</td>\n",
       "      <td>4</td>\n",
       "    </tr>\n",
       "    <tr>\n",
       "      <th>4</th>\n",
       "      <td>4</td>\n",
       "      <td>Vauxhall Corsa</td>\n",
       "      <td>1000</td>\n",
       "      <td>85000</td>\n",
       "      <td>2013</td>\n",
       "      <td>3</td>\n",
       "      <td>Diesel</td>\n",
       "      <td>Hatchback</td>\n",
       "      <td>1.3L</td>\n",
       "      <td>Manual</td>\n",
       "      <td>5</td>\n",
       "      <td>5</td>\n",
       "    </tr>\n",
       "  </tbody>\n",
       "</table>\n",
       "</div>"
      ],
      "text/plain": [
       "   Unnamed: 0           title  Price  Mileage  Registration_Year  \\\n",
       "0           0     SKODA Fabia   6900    70189               2016   \n",
       "1           1  Vauxhall Corsa   1495    88585               2008   \n",
       "2           2     Hyundai i30    949   137000               2011   \n",
       "3           3      MINI Hatch   2395    96731               2010   \n",
       "4           4  Vauxhall Corsa   1000    85000               2013   \n",
       "\n",
       "   Previous Owners Fuel type  Body type Engine Gearbox  Doors  Seats  \n",
       "0                3    Diesel  Hatchback   1.4L  Manual      5      5  \n",
       "1                4    Petrol  Hatchback   1.2L  Manual      3      5  \n",
       "2                3    Petrol  Hatchback   1.4L  Manual      5      5  \n",
       "3                5    Petrol  Hatchback   1.4L  Manual      3      4  \n",
       "4                3    Diesel  Hatchback   1.3L  Manual      5      5  "
      ]
     },
     "execution_count": 17,
     "metadata": {},
     "output_type": "execute_result"
    }
   ],
   "source": [
    "df.head()"
   ]
  },
  {
   "cell_type": "code",
   "execution_count": 18,
   "metadata": {},
   "outputs": [],
   "source": [
    "# Examining distribution\n",
    "\n",
    "milage_distribution = df['Mileage'].quantile([0.05, 0.25, 0.5, 0.75, 0.95])"
   ]
  },
  {
   "cell_type": "code",
   "execution_count": 19,
   "metadata": {},
   "outputs": [
    {
     "data": {
      "text/plain": [
       "<AxesSubplot:ylabel='Frequency'>"
      ]
     },
     "execution_count": 19,
     "metadata": {},
     "output_type": "execute_result"
    },
    {
     "data": {
      "image/png": "[encoded data removed]",
      "text/plain": [
       "<Figure size 288x288 with 1 Axes>"
      ]
     },
     "metadata": {
      "needs_background": "light"
     },
     "output_type": "display_data"
    }
   ],
   "source": [
    "df['Mileage'].plot.hist(figsize=(4, 4))"
   ]
  },
  {
   "cell_type": "code",
   "execution_count": 26,
   "metadata": {},
   "outputs": [
    {
     "data": {
      "image/png": "[encoded data removed]",
      "text/plain": [
       "<Figure size 432x288 with 1 Axes>"
      ]
     },
     "metadata": {
      "needs_background": "light"
     },
     "output_type": "display_data"
    }
   ],
   "source": [
    "plt.boxplot(df['Mileage'],)\n",
    "plt.show()"
   ]
  },
  {
   "cell_type": "code",
   "execution_count": null,
   "metadata": {},
   "outputs": [],
   "source": [
    "# defining the range for y-axis\n"
   ]
  },
  {
   "cell_type": "code",
   "execution_count": 29,
   "metadata": {},
   "outputs": [
    {
     "data": {
      "image/png": "[encoded data removed]",
      "text/plain": [
       "<Figure size 432x288 with 1 Axes>"
      ]
     },
     "metadata": {
      "needs_background": "light"
     },
     "output_type": "display_data"
    }
   ],
   "source": [
    "plt.title('Mileage Distribution')\n",
    "plt.ylabel('Mileage')\n",
    "plt.xlabel('Distribution')\n",
    "plt.violinplot(df['Mileage'])\n",
    "plt.show()"
   ]
  },
  {
   "cell_type": "code",
   "execution_count": 25,
   "metadata": {},
   "outputs": [
    {
     "data": {
      "image/png": "[encoded data removed]",
      "text/plain": [
       "<Figure size 432x288 with 1 Axes>"
      ]
     },
     "metadata": {
      "needs_background": "light"
     },
     "output_type": "display_data"
    }
   ],
   "source": [
    "plt.hist(df['Mileage'], bins=40)\n",
    "plt.xlabel('Frequency')\n",
    "plt.ylabel('Mileage')\n",
    "plt.title('Mileage Distributions')\n",
    "plt.show()"
   ]
  }
 ],
 "metadata": {
  "kernelspec": {
   "display_name": "Python 3",
   "language": "python",
   "name": "python3"
  },
  "language_info": {
   "codemirror_mode": {
    "name": "ipython",
    "version": 3
   },
   "file_extension": ".py",
   "mimetype": "text/x-python",
   "name": "python",
   "nbconvert_exporter": "python",
   "pygments_lexer": "ipython3",
   "version": "3.9.12"
  }
 },
 "nbformat": 4,
 "nbformat_minor": 2
}
